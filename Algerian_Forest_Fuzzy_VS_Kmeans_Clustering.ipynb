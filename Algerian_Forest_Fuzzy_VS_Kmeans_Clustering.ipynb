{
 "cells": [
  {
   "cell_type": "markdown",
   "metadata": {},
   "source": [
    "Algerian Forest Dataset Link: https://archive.ics.uci.edu/ml/datasets/Algerian+Forest+Fires+Dataset++#\n",
    "\n",
    "`Dataset contains 2 other sub datasets`\n"
   ]
  },
  {
   "cell_type": "code",
   "execution_count": 1,
   "metadata": {},
   "outputs": [],
   "source": [
    "import numpy as np\n",
    "import pandas as pd\n",
    "from fcmeans import FCM\n",
    "import seaborn as sns\n",
    "import skfuzzy\n",
    "from sklearn.preprocessing import MinMaxScaler\n",
    "from sklearn.cluster import KMeans\n",
    "import matplotlib.pyplot as plt"
   ]
  },
  {
   "cell_type": "code",
   "execution_count": 2,
   "metadata": {},
   "outputs": [
    {
     "name": "stdout",
     "output_type": "stream",
     "text": [
      "Index(['day', 'month', 'year', 'Temperature', ' RH', ' Ws', 'Rain ', 'FFMC',\n",
      "       'DMC', 'DC', 'ISI', 'BUI', 'FWI', 'Classes  '],\n",
      "      dtype='object')\n"
     ]
    },
    {
     "data": {
      "text/plain": [
       "day            0\n",
       "month          1\n",
       "year           1\n",
       "Temperature    1\n",
       " RH            1\n",
       " Ws            1\n",
       "Rain           1\n",
       "FFMC           1\n",
       "DMC            1\n",
       "DC             1\n",
       "ISI            1\n",
       "BUI            1\n",
       "FWI            1\n",
       "Classes        2\n",
       "dtype: int64"
      ]
     },
     "execution_count": 2,
     "metadata": {},
     "output_type": "execute_result"
    }
   ],
   "source": [
    "data = pd.read_csv(\"Algerian_forest_fire_dataset.csv\", skiprows=1)\n",
    "print(data.columns)\n",
    "data.isnull().sum()\n"
   ]
  },
  {
   "cell_type": "code",
   "execution_count": 3,
   "metadata": {},
   "outputs": [
    {
     "data": {
      "text/html": [
       "<div>\n",
       "<style scoped>\n",
       "    .dataframe tbody tr th:only-of-type {\n",
       "        vertical-align: middle;\n",
       "    }\n",
       "\n",
       "    .dataframe tbody tr th {\n",
       "        vertical-align: top;\n",
       "    }\n",
       "\n",
       "    .dataframe thead th {\n",
       "        text-align: right;\n",
       "    }\n",
       "</style>\n",
       "<table border=\"1\" class=\"dataframe\">\n",
       "  <thead>\n",
       "    <tr style=\"text-align: right;\">\n",
       "      <th></th>\n",
       "      <th>day</th>\n",
       "      <th>month</th>\n",
       "      <th>year</th>\n",
       "      <th>Temperature</th>\n",
       "      <th>RH</th>\n",
       "      <th>Ws</th>\n",
       "      <th>Rain</th>\n",
       "      <th>FFMC</th>\n",
       "      <th>DMC</th>\n",
       "      <th>DC</th>\n",
       "      <th>ISI</th>\n",
       "      <th>BUI</th>\n",
       "      <th>FWI</th>\n",
       "      <th>Classes</th>\n",
       "    </tr>\n",
       "  </thead>\n",
       "  <tbody>\n",
       "    <tr>\n",
       "      <th>count</th>\n",
       "      <td>246</td>\n",
       "      <td>245</td>\n",
       "      <td>245</td>\n",
       "      <td>245</td>\n",
       "      <td>245</td>\n",
       "      <td>245</td>\n",
       "      <td>245</td>\n",
       "      <td>245</td>\n",
       "      <td>245</td>\n",
       "      <td>245</td>\n",
       "      <td>245</td>\n",
       "      <td>245</td>\n",
       "      <td>245</td>\n",
       "      <td>244</td>\n",
       "    </tr>\n",
       "    <tr>\n",
       "      <th>unique</th>\n",
       "      <td>33</td>\n",
       "      <td>5</td>\n",
       "      <td>2</td>\n",
       "      <td>20</td>\n",
       "      <td>63</td>\n",
       "      <td>19</td>\n",
       "      <td>40</td>\n",
       "      <td>174</td>\n",
       "      <td>167</td>\n",
       "      <td>199</td>\n",
       "      <td>107</td>\n",
       "      <td>175</td>\n",
       "      <td>128</td>\n",
       "      <td>9</td>\n",
       "    </tr>\n",
       "    <tr>\n",
       "      <th>top</th>\n",
       "      <td>01</td>\n",
       "      <td>07</td>\n",
       "      <td>2012</td>\n",
       "      <td>35</td>\n",
       "      <td>64</td>\n",
       "      <td>14</td>\n",
       "      <td>0</td>\n",
       "      <td>88.9</td>\n",
       "      <td>7.9</td>\n",
       "      <td>8</td>\n",
       "      <td>1.1</td>\n",
       "      <td>3</td>\n",
       "      <td>0.4</td>\n",
       "      <td>fire</td>\n",
       "    </tr>\n",
       "    <tr>\n",
       "      <th>freq</th>\n",
       "      <td>8</td>\n",
       "      <td>62</td>\n",
       "      <td>244</td>\n",
       "      <td>29</td>\n",
       "      <td>10</td>\n",
       "      <td>43</td>\n",
       "      <td>133</td>\n",
       "      <td>8</td>\n",
       "      <td>5</td>\n",
       "      <td>5</td>\n",
       "      <td>8</td>\n",
       "      <td>5</td>\n",
       "      <td>12</td>\n",
       "      <td>131</td>\n",
       "    </tr>\n",
       "  </tbody>\n",
       "</table>\n",
       "</div>"
      ],
      "text/plain": [
       "        day month  year Temperature   RH   Ws Rain   FFMC  DMC   DC  ISI  BUI  \\\n",
       "count   246   245   245         245  245  245   245   245  245  245  245  245   \n",
       "unique   33     5     2          20   63   19    40   174  167  199  107  175   \n",
       "top      01    07  2012          35   64   14     0  88.9  7.9    8  1.1    3   \n",
       "freq      8    62   244          29   10   43   133     8    5    5    8    5   \n",
       "\n",
       "        FWI Classes    \n",
       "count   245       244  \n",
       "unique  128         9  \n",
       "top     0.4   fire     \n",
       "freq     12       131  "
      ]
     },
     "execution_count": 3,
     "metadata": {},
     "output_type": "execute_result"
    }
   ],
   "source": [
    "data.describe(include=\"all\")"
   ]
  },
  {
   "cell_type": "code",
   "execution_count": 4,
   "metadata": {},
   "outputs": [
    {
     "data": {
      "text/html": [
       "<div>\n",
       "<style scoped>\n",
       "    .dataframe tbody tr th:only-of-type {\n",
       "        vertical-align: middle;\n",
       "    }\n",
       "\n",
       "    .dataframe tbody tr th {\n",
       "        vertical-align: top;\n",
       "    }\n",
       "\n",
       "    .dataframe thead th {\n",
       "        text-align: right;\n",
       "    }\n",
       "</style>\n",
       "<table border=\"1\" class=\"dataframe\">\n",
       "  <thead>\n",
       "    <tr style=\"text-align: right;\">\n",
       "      <th></th>\n",
       "      <th>day</th>\n",
       "      <th>month</th>\n",
       "      <th>year</th>\n",
       "      <th>Temperature</th>\n",
       "      <th>RH</th>\n",
       "      <th>Ws</th>\n",
       "      <th>Rain</th>\n",
       "      <th>FFMC</th>\n",
       "      <th>DMC</th>\n",
       "      <th>DC</th>\n",
       "      <th>ISI</th>\n",
       "      <th>BUI</th>\n",
       "      <th>FWI</th>\n",
       "      <th>Classes</th>\n",
       "    </tr>\n",
       "  </thead>\n",
       "  <tbody>\n",
       "    <tr>\n",
       "      <th>0</th>\n",
       "      <td>01</td>\n",
       "      <td>06</td>\n",
       "      <td>2012</td>\n",
       "      <td>29</td>\n",
       "      <td>57</td>\n",
       "      <td>18</td>\n",
       "      <td>0</td>\n",
       "      <td>65.7</td>\n",
       "      <td>3.4</td>\n",
       "      <td>7.6</td>\n",
       "      <td>1.3</td>\n",
       "      <td>3.4</td>\n",
       "      <td>0.5</td>\n",
       "      <td>not fire</td>\n",
       "    </tr>\n",
       "    <tr>\n",
       "      <th>1</th>\n",
       "      <td>02</td>\n",
       "      <td>06</td>\n",
       "      <td>2012</td>\n",
       "      <td>29</td>\n",
       "      <td>61</td>\n",
       "      <td>13</td>\n",
       "      <td>1.3</td>\n",
       "      <td>64.4</td>\n",
       "      <td>4.1</td>\n",
       "      <td>7.6</td>\n",
       "      <td>1</td>\n",
       "      <td>3.9</td>\n",
       "      <td>0.4</td>\n",
       "      <td>not fire</td>\n",
       "    </tr>\n",
       "    <tr>\n",
       "      <th>2</th>\n",
       "      <td>03</td>\n",
       "      <td>06</td>\n",
       "      <td>2012</td>\n",
       "      <td>26</td>\n",
       "      <td>82</td>\n",
       "      <td>22</td>\n",
       "      <td>13.1</td>\n",
       "      <td>47.1</td>\n",
       "      <td>2.5</td>\n",
       "      <td>7.1</td>\n",
       "      <td>0.3</td>\n",
       "      <td>2.7</td>\n",
       "      <td>0.1</td>\n",
       "      <td>not fire</td>\n",
       "    </tr>\n",
       "    <tr>\n",
       "      <th>3</th>\n",
       "      <td>04</td>\n",
       "      <td>06</td>\n",
       "      <td>2012</td>\n",
       "      <td>25</td>\n",
       "      <td>89</td>\n",
       "      <td>13</td>\n",
       "      <td>2.5</td>\n",
       "      <td>28.6</td>\n",
       "      <td>1.3</td>\n",
       "      <td>6.9</td>\n",
       "      <td>0</td>\n",
       "      <td>1.7</td>\n",
       "      <td>0</td>\n",
       "      <td>not fire</td>\n",
       "    </tr>\n",
       "    <tr>\n",
       "      <th>4</th>\n",
       "      <td>05</td>\n",
       "      <td>06</td>\n",
       "      <td>2012</td>\n",
       "      <td>27</td>\n",
       "      <td>77</td>\n",
       "      <td>16</td>\n",
       "      <td>0</td>\n",
       "      <td>64.8</td>\n",
       "      <td>3</td>\n",
       "      <td>14.2</td>\n",
       "      <td>1.2</td>\n",
       "      <td>3.9</td>\n",
       "      <td>0.5</td>\n",
       "      <td>not fire</td>\n",
       "    </tr>\n",
       "    <tr>\n",
       "      <th>...</th>\n",
       "      <td>...</td>\n",
       "      <td>...</td>\n",
       "      <td>...</td>\n",
       "      <td>...</td>\n",
       "      <td>...</td>\n",
       "      <td>...</td>\n",
       "      <td>...</td>\n",
       "      <td>...</td>\n",
       "      <td>...</td>\n",
       "      <td>...</td>\n",
       "      <td>...</td>\n",
       "      <td>...</td>\n",
       "      <td>...</td>\n",
       "      <td>...</td>\n",
       "    </tr>\n",
       "    <tr>\n",
       "      <th>119</th>\n",
       "      <td>28</td>\n",
       "      <td>09</td>\n",
       "      <td>2012</td>\n",
       "      <td>32</td>\n",
       "      <td>47</td>\n",
       "      <td>14</td>\n",
       "      <td>0.7</td>\n",
       "      <td>77.5</td>\n",
       "      <td>7.1</td>\n",
       "      <td>8.8</td>\n",
       "      <td>1.8</td>\n",
       "      <td>6.8</td>\n",
       "      <td>0.9</td>\n",
       "      <td>not fire</td>\n",
       "    </tr>\n",
       "    <tr>\n",
       "      <th>120</th>\n",
       "      <td>29</td>\n",
       "      <td>09</td>\n",
       "      <td>2012</td>\n",
       "      <td>26</td>\n",
       "      <td>80</td>\n",
       "      <td>16</td>\n",
       "      <td>1.8</td>\n",
       "      <td>47.4</td>\n",
       "      <td>2.9</td>\n",
       "      <td>7.7</td>\n",
       "      <td>0.3</td>\n",
       "      <td>3</td>\n",
       "      <td>0.1</td>\n",
       "      <td>not fire</td>\n",
       "    </tr>\n",
       "    <tr>\n",
       "      <th>121</th>\n",
       "      <td>30</td>\n",
       "      <td>09</td>\n",
       "      <td>2012</td>\n",
       "      <td>25</td>\n",
       "      <td>78</td>\n",
       "      <td>14</td>\n",
       "      <td>1.4</td>\n",
       "      <td>45</td>\n",
       "      <td>1.9</td>\n",
       "      <td>7.5</td>\n",
       "      <td>0.2</td>\n",
       "      <td>2.4</td>\n",
       "      <td>0.1</td>\n",
       "      <td>not fire</td>\n",
       "    </tr>\n",
       "    <tr>\n",
       "      <th>122</th>\n",
       "      <td>Sidi-Bel Abbes Region Dataset</td>\n",
       "      <td>NaN</td>\n",
       "      <td>NaN</td>\n",
       "      <td>NaN</td>\n",
       "      <td>NaN</td>\n",
       "      <td>NaN</td>\n",
       "      <td>NaN</td>\n",
       "      <td>NaN</td>\n",
       "      <td>NaN</td>\n",
       "      <td>NaN</td>\n",
       "      <td>NaN</td>\n",
       "      <td>NaN</td>\n",
       "      <td>NaN</td>\n",
       "      <td>NaN</td>\n",
       "    </tr>\n",
       "    <tr>\n",
       "      <th>123</th>\n",
       "      <td>day</td>\n",
       "      <td>month</td>\n",
       "      <td>year</td>\n",
       "      <td>Temperature</td>\n",
       "      <td>RH</td>\n",
       "      <td>Ws</td>\n",
       "      <td>Rain</td>\n",
       "      <td>FFMC</td>\n",
       "      <td>DMC</td>\n",
       "      <td>DC</td>\n",
       "      <td>ISI</td>\n",
       "      <td>BUI</td>\n",
       "      <td>FWI</td>\n",
       "      <td>Classes</td>\n",
       "    </tr>\n",
       "  </tbody>\n",
       "</table>\n",
       "<p>124 rows × 14 columns</p>\n",
       "</div>"
      ],
      "text/plain": [
       "                               day  month  year  Temperature   RH   Ws  Rain   \\\n",
       "0                               01     06  2012           29   57   18      0   \n",
       "1                               02     06  2012           29   61   13    1.3   \n",
       "2                               03     06  2012           26   82   22   13.1   \n",
       "3                               04     06  2012           25   89   13    2.5   \n",
       "4                               05     06  2012           27   77   16      0   \n",
       "..                             ...    ...   ...          ...  ...  ...    ...   \n",
       "119                             28     09  2012           32   47   14    0.7   \n",
       "120                             29     09  2012           26   80   16    1.8   \n",
       "121                             30     09  2012           25   78   14    1.4   \n",
       "122  Sidi-Bel Abbes Region Dataset    NaN   NaN          NaN  NaN  NaN    NaN   \n",
       "123                            day  month  year  Temperature   RH   Ws  Rain    \n",
       "\n",
       "     FFMC  DMC    DC  ISI  BUI  FWI    Classes    \n",
       "0    65.7  3.4   7.6  1.3  3.4  0.5  not fire     \n",
       "1    64.4  4.1   7.6    1  3.9  0.4  not fire     \n",
       "2    47.1  2.5   7.1  0.3  2.7  0.1  not fire     \n",
       "3    28.6  1.3   6.9    0  1.7    0  not fire     \n",
       "4    64.8    3  14.2  1.2  3.9  0.5  not fire     \n",
       "..    ...  ...   ...  ...  ...  ...          ...  \n",
       "119  77.5  7.1   8.8  1.8  6.8  0.9  not fire     \n",
       "120  47.4  2.9   7.7  0.3    3  0.1  not fire     \n",
       "121    45  1.9   7.5  0.2  2.4  0.1  not fire     \n",
       "122   NaN  NaN   NaN  NaN  NaN  NaN          NaN  \n",
       "123  FFMC  DMC    DC  ISI  BUI  FWI    Classes    \n",
       "\n",
       "[124 rows x 14 columns]"
      ]
     },
     "execution_count": 4,
     "metadata": {},
     "output_type": "execute_result"
    }
   ],
   "source": [
    "data.head(124)\n"
   ]
  },
  {
   "cell_type": "code",
   "execution_count": 5,
   "metadata": {},
   "outputs": [],
   "source": [
    "# Removing name and columns names of the second dataset\n",
    "data = data.drop(labels=122, axis=0)\n",
    "data = data.drop(labels=123, axis=0)\n"
   ]
  },
  {
   "cell_type": "code",
   "execution_count": 6,
   "metadata": {},
   "outputs": [
    {
     "name": "stdout",
     "output_type": "stream",
     "text": [
      "day            0\n",
      "month          0\n",
      "year           0\n",
      "Temperature    0\n",
      " RH            0\n",
      " Ws            0\n",
      "Rain           0\n",
      "FFMC           0\n",
      "DMC            0\n",
      "DC             0\n",
      "ISI            0\n",
      "BUI            0\n",
      "FWI            0\n",
      "Classes        0\n",
      "dtype: int64\n"
     ]
    },
    {
     "data": {
      "text/plain": [
       "(243, 14)"
      ]
     },
     "execution_count": 6,
     "metadata": {},
     "output_type": "execute_result"
    }
   ],
   "source": [
    "data = data.dropna()\n",
    "print(data.isnull().sum())\n",
    "data.shape\n"
   ]
  },
  {
   "cell_type": "code",
   "execution_count": 7,
   "metadata": {},
   "outputs": [],
   "source": [
    "target = data[\"Classes  \"]\n",
    "data = data.drop(columns=[\"day\", \"month\", \"year\", \"Classes  \"])"
   ]
  },
  {
   "cell_type": "code",
   "execution_count": 8,
   "metadata": {},
   "outputs": [
    {
     "name": "stdout",
     "output_type": "stream",
     "text": [
      "Before:  ['not fire   ' 'fire   ' 'fire' 'fire ' 'not fire' 'not fire '\n",
      " 'not fire     ' 'not fire    ']\n",
      "After:  ['notfire' 'fire']\n"
     ]
    }
   ],
   "source": [
    "print(\"Before: \", target.unique())\n",
    "target = target.str.replace(\"  \", \"\")\n",
    "target = target.str.replace(\" \", \"\")\n",
    "print(\"After: \", target.unique())"
   ]
  },
  {
   "cell_type": "code",
   "execution_count": 9,
   "metadata": {},
   "outputs": [
    {
     "data": {
      "text/plain": [
       "array([[29. , 57. , 18. , ...,  1.3,  3.4,  0.5],\n",
       "       [29. , 61. , 13. , ...,  1. ,  3.9,  0.4],\n",
       "       [26. , 82. , 22. , ...,  0.3,  2.7,  0.1],\n",
       "       ...,\n",
       "       [27. , 87. , 29. , ...,  0.4,  3.4,  0.2],\n",
       "       [24. , 54. , 18. , ...,  1.7,  5.1,  0.7],\n",
       "       [24. , 64. , 15. , ...,  1.2,  4.8,  0.5]])"
      ]
     },
     "execution_count": 9,
     "metadata": {},
     "output_type": "execute_result"
    }
   ],
   "source": [
    "X = data.to_numpy()\n",
    "X = X.astype(\"float\")\n",
    "X"
   ]
  },
  {
   "cell_type": "code",
   "execution_count": 10,
   "metadata": {},
   "outputs": [],
   "source": [
    "scaledX = MinMaxScaler().fit_transform(X)\n"
   ]
  },
  {
   "cell_type": "code",
   "execution_count": 12,
   "metadata": {},
   "outputs": [],
   "source": [
    "# Mapping Target\n",
    "target = (target == \"fire\").astype(int)\n",
    "y = target.to_numpy()"
   ]
  },
  {
   "cell_type": "code",
   "execution_count": 45,
   "metadata": {},
   "outputs": [],
   "source": [
    "fcm = FCM(n_clusters=2)\n",
    "fcm.fit(scaledX)\n"
   ]
  },
  {
   "cell_type": "code",
   "execution_count": 46,
   "metadata": {},
   "outputs": [],
   "source": [
    "fcm_centers = fcm.centers\n",
    "fcm_labels = fcm.soft_predict(scaledX)\n"
   ]
  },
  {
   "cell_type": "code",
   "execution_count": 47,
   "metadata": {},
   "outputs": [
    {
     "name": "stdout",
     "output_type": "stream",
     "text": [
      "Centers:  [[0.42521568 0.68541706 0.41365382 0.06645692 0.62526524 0.10381958\n",
      "  0.08074263 0.11844425 0.10931128 0.07340942]\n",
      " [0.62695595 0.46821237 0.41269481 0.00926042 0.87831994 0.37477214\n",
      "  0.37388047 0.44293032 0.41366601 0.45544353]]\n",
      "Labels:  [[0.92456508 0.07543492]\n",
      " [0.94177769 0.05822231]\n",
      " [0.72379741 0.27620259]\n",
      " [0.775121   0.224879  ]\n",
      " [0.93361637 0.06638363]\n",
      " [0.93021207 0.06978793]\n",
      " [0.55714063 0.44285937]\n",
      " [0.72091706 0.27908294]\n",
      " [0.83581668 0.16418332]\n",
      " [0.89871535 0.10128465]\n",
      " [0.72599374 0.27400626]\n",
      " [0.67762201 0.32237799]\n",
      " [0.84772194 0.15227806]\n",
      " [0.91073864 0.08926136]\n",
      " [0.87796231 0.12203769]\n",
      " [0.81061024 0.18938976]\n",
      " [0.81793973 0.18206027]\n",
      " [0.91944994 0.08055006]\n",
      " [0.90587867 0.09412133]\n",
      " [0.93422556 0.06577444]\n",
      " [0.92600995 0.07399005]\n",
      " [0.9480986  0.0519014 ]\n",
      " [0.84497524 0.15502476]\n",
      " [0.59293013 0.40706987]\n",
      " [0.46173724 0.53826276]\n",
      " [0.27071616 0.72928384]\n",
      " [0.03153125 0.96846875]\n",
      " [0.03705977 0.96294023]\n",
      " [0.48731227 0.51268773]\n",
      " [0.03311329 0.96688671]\n",
      " [0.93043103 0.06956897]\n",
      " [0.89918765 0.10081235]\n",
      " [0.91776416 0.08223584]\n",
      " [0.91353606 0.08646394]\n",
      " [0.79941045 0.20058955]\n",
      " [0.66506557 0.33493443]\n",
      " [0.81070431 0.18929569]\n",
      " [0.5494619  0.4505381 ]\n",
      " [0.96934801 0.03065199]\n",
      " [0.94862116 0.05137884]\n",
      " [0.91170698 0.08829302]\n",
      " [0.95532194 0.04467806]\n",
      " [0.83690516 0.16309484]\n",
      " [0.91302856 0.08697144]\n",
      " [0.92303473 0.07696527]\n",
      " [0.90304799 0.09695201]\n",
      " [0.9035762  0.0964238 ]\n",
      " [0.75038061 0.24961939]\n",
      " [0.24898187 0.75101813]\n",
      " [0.75947687 0.24052313]\n",
      " [0.36904151 0.63095849]\n",
      " [0.76174797 0.23825203]\n",
      " [0.79998435 0.20001565]\n",
      " [0.85591536 0.14408464]\n",
      " [0.49690451 0.50309549]\n",
      " [0.07381093 0.92618907]\n",
      " [0.04294657 0.95705343]\n",
      " [0.22348767 0.77651233]\n",
      " [0.20185297 0.79814703]\n",
      " [0.28694079 0.71305921]\n",
      " [0.13016939 0.86983061]\n",
      " [0.75601526 0.24398474]\n",
      " [0.83755717 0.16244283]\n",
      " [0.89662803 0.10337197]\n",
      " [0.8253961  0.1746039 ]\n",
      " [0.68054161 0.31945839]\n",
      " [0.70230195 0.29769805]\n",
      " [0.55329477 0.44670523]\n",
      " [0.86977911 0.13022089]\n",
      " [0.25527138 0.74472862]\n",
      " [0.09139976 0.90860024]\n",
      " [0.09154481 0.90845519]\n",
      " [0.49890019 0.50109981]\n",
      " [0.14795455 0.85204545]\n",
      " [0.16292122 0.83707878]\n",
      " [0.34964979 0.65035021]\n",
      " [0.55357389 0.44642611]\n",
      " [0.07842387 0.92157613]\n",
      " [0.05138217 0.94861783]\n",
      " [0.08155911 0.91844089]\n",
      " [0.11632529 0.88367471]\n",
      " [0.10675101 0.89324899]\n",
      " [0.12803528 0.87196472]\n",
      " [0.15421675 0.84578325]\n",
      " [0.18694141 0.81305859]\n",
      " [0.20060864 0.79939136]\n",
      " [0.29690899 0.70309101]\n",
      " [0.31567403 0.68432597]\n",
      " [0.25467917 0.74532083]\n",
      " [0.26580646 0.73419354]\n",
      " [0.39123127 0.60876873]\n",
      " [0.67697807 0.32302193]\n",
      " [0.81196435 0.18803565]\n",
      " [0.73071186 0.26928814]\n",
      " [0.83256121 0.16743879]\n",
      " [0.95979817 0.04020183]\n",
      " [0.93835507 0.06164493]\n",
      " [0.93790685 0.06209315]\n",
      " [0.97462029 0.02537971]\n",
      " [0.95262106 0.04737894]\n",
      " [0.92489901 0.07510099]\n",
      " [0.91346878 0.08653122]\n",
      " [0.89694969 0.10305031]\n",
      " [0.90105302 0.09894698]\n",
      " [0.79783711 0.20216289]\n",
      " [0.74068593 0.25931407]\n",
      " [0.83333425 0.16666575]\n",
      " [0.95511707 0.04488293]\n",
      " [0.67619636 0.32380364]\n",
      " [0.49996003 0.50003997]\n",
      " [0.45848219 0.54151781]\n",
      " [0.73749024 0.26250976]\n",
      " [0.40076758 0.59923242]\n",
      " [0.79539454 0.20460546]\n",
      " [0.87027304 0.12972696]\n",
      " [0.95364126 0.04635874]\n",
      " [0.82006056 0.17993944]\n",
      " [0.84520943 0.15479057]\n",
      " [0.8253022  0.1746978 ]\n",
      " [0.84442833 0.15557167]\n",
      " [0.86406448 0.13593552]\n",
      " [0.84762246 0.15237754]\n",
      " [0.91409238 0.08590762]\n",
      " [0.90456343 0.09543657]\n",
      " [0.88234721 0.11765279]\n",
      " [0.95137046 0.04862954]\n",
      " [0.94143769 0.05856231]\n",
      " [0.731183   0.268817  ]\n",
      " [0.53710435 0.46289565]\n",
      " [0.89638352 0.10361648]\n",
      " [0.90039759 0.09960241]\n",
      " [0.40177251 0.59822749]\n",
      " [0.24926838 0.75073162]\n",
      " [0.32965188 0.67034812]\n",
      " [0.90163173 0.09836827]\n",
      " [0.89787089 0.10212911]\n",
      " [0.89473384 0.10526616]\n",
      " [0.86221737 0.13778263]\n",
      " [0.92192293 0.07807707]\n",
      " [0.78949447 0.21050553]\n",
      " [0.92439107 0.07560893]\n",
      " [0.94528293 0.05471707]\n",
      " [0.75341739 0.24658261]\n",
      " [0.81575578 0.18424422]\n",
      " [0.93647095 0.06352905]\n",
      " [0.75062164 0.24937836]\n",
      " [0.68626827 0.31373173]\n",
      " [0.34617071 0.65382929]\n",
      " [0.13385761 0.86614239]\n",
      " [0.12599279 0.87400721]\n",
      " [0.36045725 0.63954275]\n",
      " [0.72517428 0.27482572]\n",
      " [0.92004601 0.07995399]\n",
      " [0.59088039 0.40911961]\n",
      " [0.70728636 0.29271364]\n",
      " [0.35839703 0.64160297]\n",
      " [0.14617349 0.85382651]\n",
      " [0.42945957 0.57054043]\n",
      " [0.48358015 0.51641985]\n",
      " [0.69750522 0.30249478]\n",
      " [0.67591584 0.32408416]\n",
      " [0.82908936 0.17091064]\n",
      " [0.88939729 0.11060271]\n",
      " [0.35274204 0.64725796]\n",
      " [0.55062434 0.44937566]\n",
      " [0.20472316 0.79527684]\n",
      " [0.66732061 0.33267939]\n",
      " [0.59388838 0.40611162]\n",
      " [0.33529993 0.66470007]\n",
      " [0.04925188 0.95074812]\n",
      " [0.04550336 0.95449664]\n",
      " [0.22843076 0.77156924]\n",
      " [0.17123999 0.82876001]\n",
      " [0.20508926 0.79491074]\n",
      " [0.74468654 0.25531346]\n",
      " [0.72935504 0.27064496]\n",
      " [0.79953028 0.20046972]\n",
      " [0.85617146 0.14382854]\n",
      " [0.39345982 0.60654018]\n",
      " [0.19463307 0.80536693]\n",
      " [0.05866124 0.94133876]\n",
      " [0.03754688 0.96245312]\n",
      " [0.75656812 0.24343188]\n",
      " [0.29565383 0.70434617]\n",
      " [0.24750611 0.75249389]\n",
      " [0.19452154 0.80547846]\n",
      " [0.22925365 0.77074635]\n",
      " [0.90642358 0.09357642]\n",
      " [0.91644568 0.08355432]\n",
      " [0.56412824 0.43587176]\n",
      " [0.23406264 0.76593736]\n",
      " [0.25689313 0.74310687]\n",
      " [0.21868901 0.78131099]\n",
      " [0.24646601 0.75353399]\n",
      " [0.23983588 0.76016412]\n",
      " [0.11725547 0.88274453]\n",
      " [0.4459787  0.5540213 ]\n",
      " [0.15829918 0.84170082]\n",
      " [0.22979411 0.77020589]\n",
      " [0.17804873 0.82195127]\n",
      " [0.24863545 0.75136455]\n",
      " [0.29737702 0.70262298]\n",
      " [0.17906315 0.82093685]\n",
      " [0.12263674 0.87736326]\n",
      " [0.17160772 0.82839228]\n",
      " [0.20681934 0.79318066]\n",
      " [0.24251055 0.75748945]\n",
      " [0.25479429 0.74520571]\n",
      " [0.25968755 0.74031245]\n",
      " [0.29821614 0.70178386]\n",
      " [0.29899624 0.70100376]\n",
      " [0.10805225 0.89194775]\n",
      " [0.17603742 0.82396258]\n",
      " [0.82487928 0.17512072]\n",
      " [0.93382912 0.06617088]\n",
      " [0.91754613 0.08245387]\n",
      " [0.9802074  0.0197926 ]\n",
      " [0.90319367 0.09680633]\n",
      " [0.86260147 0.13739853]\n",
      " [0.90214635 0.09785365]\n",
      " [0.86473271 0.13526729]\n",
      " [0.88503863 0.11496137]\n",
      " [0.94578173 0.05421827]\n",
      " [0.95683331 0.04316669]\n",
      " [0.89310215 0.10689785]\n",
      " [0.42562455 0.57437545]\n",
      " [0.78678266 0.21321734]\n",
      " [0.28695183 0.71304817]\n",
      " [0.19900913 0.80099087]\n",
      " [0.09163517 0.90836483]\n",
      " [0.10143414 0.89856586]\n",
      " [0.40198108 0.59801892]\n",
      " [0.50429541 0.49570459]\n",
      " [0.13672372 0.86327628]\n",
      " [0.08082205 0.91917795]\n",
      " [0.04796779 0.95203221]\n",
      " [0.75789629 0.24210371]\n",
      " [0.90048211 0.09951789]\n",
      " [0.67627668 0.32372332]\n",
      " [0.82380117 0.17619883]\n",
      " [0.75394095 0.24605905]\n",
      " [0.83299293 0.16700707]\n",
      " [0.89259399 0.10740601]]\n"
     ]
    }
   ],
   "source": [
    "print(\"Centers: \", fcm_centers)\n",
    "print(\"Labels: \", fcm_labels)\n"
   ]
  },
  {
   "cell_type": "code",
   "execution_count": 68,
   "metadata": {},
   "outputs": [
    {
     "data": {
      "text/plain": [
       "array([0, 0, 0, 0, 0, 0, 0, 0, 0, 0, 0, 0, 0, 0, 0, 0, 0, 0, 0, 0, 0, 0,\n",
       "       0, 0, 1, 1, 1, 1, 1, 1, 0, 0, 0, 0, 0, 0, 0, 0, 0, 0, 0, 0, 0, 0,\n",
       "       0, 0, 0, 0, 1, 0, 1, 0, 0, 0, 1, 1, 1, 1, 1, 1, 1, 0, 0, 0, 0, 0,\n",
       "       0, 0, 0, 1, 1, 1, 1, 1, 1, 1, 0, 1, 1, 1, 1, 1, 1, 1, 1, 1, 1, 1,\n",
       "       1, 1, 1, 0, 0, 0, 0, 0, 0, 0, 0, 0, 0, 0, 0, 0, 0, 0, 0, 0, 0, 1,\n",
       "       1, 0, 1, 0, 0, 0, 0, 0, 0, 0, 0, 0, 0, 0, 0, 0, 0, 0, 0, 0, 0, 1,\n",
       "       1, 1, 0, 0, 0, 0, 0, 0, 0, 0, 0, 0, 0, 0, 0, 1, 1, 1, 1, 0, 0, 0,\n",
       "       0, 1, 1, 1, 1, 0, 0, 0, 0, 1, 0, 1, 0, 0, 1, 1, 1, 1, 1, 1, 0, 0,\n",
       "       0, 0, 1, 1, 1, 1, 0, 1, 1, 1, 1, 0, 0, 0, 1, 1, 1, 1, 1, 1, 1, 1,\n",
       "       1, 1, 1, 1, 1, 1, 1, 1, 1, 1, 1, 1, 1, 1, 1, 0, 0, 0, 0, 0, 0, 0,\n",
       "       0, 0, 0, 0, 0, 1, 0, 1, 1, 1, 1, 1, 0, 1, 1, 1, 0, 0, 0, 0, 0, 0,\n",
       "       0])"
      ]
     },
     "execution_count": 68,
     "metadata": {},
     "output_type": "execute_result"
    }
   ],
   "source": [
    "cuts = skfuzzy.lambda_cut(fcm_labels, lcut=0.5)\n",
    "# list(cuts[:,1]) == [ 1 if x > 0.5 else 0 for x in  list(model_labels[:,1])]\n",
    "cuts = cuts[:, 1]\n",
    "cuts"
   ]
  },
  {
   "cell_type": "code",
   "execution_count": 70,
   "metadata": {},
   "outputs": [
    {
     "data": {
      "text/plain": [
       "<matplotlib.collections.PathCollection at 0x1558b7d5700>"
      ]
     },
     "execution_count": 70,
     "metadata": {},
     "output_type": "execute_result"
    },
    {
     "data": {
      "image/png": "[encoded data removed]",
      "text/plain": [
       "<Figure size 432x288 with 1 Axes>"
      ]
     },
     "metadata": {
      "needs_background": "light"
     },
     "output_type": "display_data"
    }
   ],
   "source": [
    "from sklearn.decomposition import PCA\n",
    "\n",
    "pca = PCA(n_components=2)\n",
    "\n",
    "pca.fit(scaledX)\n",
    "\n",
    "d2 = pca.transform(scaledX)\n",
    "\n",
    "plt.scatter(scaledX[:, 0], scaledX[:, 1], c=fcm_labels[:, 0])"
   ]
  },
  {
   "cell_type": "code",
   "execution_count": 71,
   "metadata": {},
   "outputs": [
    {
     "data": {
      "text/plain": [
       "<matplotlib.collections.PathCollection at 0x1558b844580>"
      ]
     },
     "execution_count": 71,
     "metadata": {},
     "output_type": "execute_result"
    },
    {
     "data": {
      "image/png": "[encoded data removed]",
      "text/plain": [
       "<Figure size 432x288 with 1 Axes>"
      ]
     },
     "metadata": {
      "needs_background": "light"
     },
     "output_type": "display_data"
    }
   ],
   "source": [
    "from sklearn.decomposition import PCA\n",
    "\n",
    "pca = PCA(n_components=2)\n",
    "\n",
    "pca.fit(scaledX)\n",
    "\n",
    "d2 = pca.transform(scaledX)\n",
    "\n",
    "plt.scatter(scaledX[:, 1], scaledX[:, 0], c=cuts)"
   ]
  },
  {
   "cell_type": "code",
   "execution_count": 72,
   "metadata": {},
   "outputs": [
    {
     "name": "stderr",
     "output_type": "stream",
     "text": [
      "d:\\Users\\miret\\anaconda3\\envs\\uni\\lib\\site-packages\\sklearn\\cluster\\_kmeans.py:1334: UserWarning: KMeans is known to have a memory leak on Windows with MKL, when there are less chunks than available threads. You can avoid it by setting the environment variable OMP_NUM_THREADS=1.\n",
      "  warnings.warn(\n"
     ]
    },
    {
     "data": {
      "text/html": [
       "<style>#sk-container-id-2 {color: black;background-color: white;}#sk-container-id-2 pre{padding: 0;}#sk-container-id-2 div.sk-toggleable {background-color: white;}#sk-container-id-2 label.sk-toggleable__label {cursor: pointer;display: block;width: 100%;margin-bottom: 0;padding: 0.3em;box-sizing: border-box;text-align: center;}#sk-container-id-2 label.sk-toggleable__label-arrow:before {content: \"▸\";float: left;margin-right: 0.25em;color: #696969;}#sk-container-id-2 label.sk-toggleable__label-arrow:hover:before {color: black;}#sk-container-id-2 div.sk-estimator:hover label.sk-toggleable__label-arrow:before {color: black;}#sk-container-id-2 div.sk-toggleable__content {max-height: 0;max-width: 0;overflow: hidden;text-align: left;background-color: #f0f8ff;}#sk-container-id-2 div.sk-toggleable__content pre {margin: 0.2em;color: black;border-radius: 0.25em;background-color: #f0f8ff;}#sk-container-id-2 input.sk-toggleable__control:checked~div.sk-toggleable__content {max-height: 200px;max-width: 100%;overflow: auto;}#sk-container-id-2 input.sk-toggleable__control:checked~label.sk-toggleable__label-arrow:before {content: \"▾\";}#sk-container-id-2 div.sk-estimator input.sk-toggleable__control:checked~label.sk-toggleable__label {background-color: #d4ebff;}#sk-container-id-2 div.sk-label input.sk-toggleable__control:checked~label.sk-toggleable__label {background-color: #d4ebff;}#sk-container-id-2 input.sk-hidden--visually {border: 0;clip: rect(1px 1px 1px 1px);clip: rect(1px, 1px, 1px, 1px);height: 1px;margin: -1px;overflow: hidden;padding: 0;position: absolute;width: 1px;}#sk-container-id-2 div.sk-estimator {font-family: monospace;background-color: #f0f8ff;border: 1px dotted black;border-radius: 0.25em;box-sizing: border-box;margin-bottom: 0.5em;}#sk-container-id-2 div.sk-estimator:hover {background-color: #d4ebff;}#sk-container-id-2 div.sk-parallel-item::after {content: \"\";width: 100%;border-bottom: 1px solid gray;flex-grow: 1;}#sk-container-id-2 div.sk-label:hover label.sk-toggleable__label {background-color: #d4ebff;}#sk-container-id-2 div.sk-serial::before {content: \"\";position: absolute;border-left: 1px solid gray;box-sizing: border-box;top: 0;bottom: 0;left: 50%;z-index: 0;}#sk-container-id-2 div.sk-serial {display: flex;flex-direction: column;align-items: center;background-color: white;padding-right: 0.2em;padding-left: 0.2em;position: relative;}#sk-container-id-2 div.sk-item {position: relative;z-index: 1;}#sk-container-id-2 div.sk-parallel {display: flex;align-items: stretch;justify-content: center;background-color: white;position: relative;}#sk-container-id-2 div.sk-item::before, #sk-container-id-2 div.sk-parallel-item::before {content: \"\";position: absolute;border-left: 1px solid gray;box-sizing: border-box;top: 0;bottom: 0;left: 50%;z-index: -1;}#sk-container-id-2 div.sk-parallel-item {display: flex;flex-direction: column;z-index: 1;position: relative;background-color: white;}#sk-container-id-2 div.sk-parallel-item:first-child::after {align-self: flex-end;width: 50%;}#sk-container-id-2 div.sk-parallel-item:last-child::after {align-self: flex-start;width: 50%;}#sk-container-id-2 div.sk-parallel-item:only-child::after {width: 0;}#sk-container-id-2 div.sk-dashed-wrapped {border: 1px dashed gray;margin: 0 0.4em 0.5em 0.4em;box-sizing: border-box;padding-bottom: 0.4em;background-color: white;}#sk-container-id-2 div.sk-label label {font-family: monospace;font-weight: bold;display: inline-block;line-height: 1.2em;}#sk-container-id-2 div.sk-label-container {text-align: center;}#sk-container-id-2 div.sk-container {/* jupyter's `normalize.less` sets `[hidden] { display: none; }` but bootstrap.min.css set `[hidden] { display: none !important; }` so we also need the `!important` here to be able to override the default hidden behavior on the sphinx rendered scikit-learn.org. See: https://github.com/scikit-learn/scikit-learn/issues/21755 */display: inline-block !important;position: relative;}#sk-container-id-2 div.sk-text-repr-fallback {display: none;}</style><div id=\"sk-container-id-2\" class=\"sk-top-container\"><div class=\"sk-text-repr-fallback\"><pre>KMeans(n_clusters=2)</pre><b>In a Jupyter environment, please rerun this cell to show the HTML representation or trust the notebook. <br />On GitHub, the HTML representation is unable to render, please try loading this page with nbviewer.org.</b></div><div class=\"sk-container\" hidden><div class=\"sk-item\"><div class=\"sk-estimator sk-toggleable\"><input class=\"sk-toggleable__control sk-hidden--visually\" id=\"sk-estimator-id-2\" type=\"checkbox\" checked><label for=\"sk-estimator-id-2\" class=\"sk-toggleable__label sk-toggleable__label-arrow\">KMeans</label><div class=\"sk-toggleable__content\"><pre>KMeans(n_clusters=2)</pre></div></div></div></div></div>"
      ],
      "text/plain": [
       "KMeans(n_clusters=2)"
      ]
     },
     "execution_count": 72,
     "metadata": {},
     "output_type": "execute_result"
    }
   ],
   "source": [
    "kmeans = KMeans(n_clusters=2)\n",
    "kmeans.fit(scaledX)\n"
   ]
  },
  {
   "cell_type": "code",
   "execution_count": 73,
   "metadata": {},
   "outputs": [
    {
     "data": {
      "image/png": "[encoded data removed]",
      "text/plain": [
       "<Figure size 432x288 with 1 Axes>"
      ]
     },
     "metadata": {
      "needs_background": "light"
     },
     "output_type": "display_data"
    }
   ],
   "source": [
    "plt.scatter(scaledX[:, 2], scaledX[:, 8], c=kmeans.labels_)\n",
    "plt.show()\n"
   ]
  },
  {
   "cell_type": "code",
   "execution_count": 74,
   "metadata": {},
   "outputs": [
    {
     "data": {
      "text/plain": [
       "<matplotlib.collections.PathCollection at 0x1558c8d5640>"
      ]
     },
     "execution_count": 74,
     "metadata": {},
     "output_type": "execute_result"
    },
    {
     "data": {
      "image/png": "[encoded data removed]",
      "text/plain": [
       "<Figure size 432x288 with 1 Axes>"
      ]
     },
     "metadata": {
      "needs_background": "light"
     },
     "output_type": "display_data"
    }
   ],
   "source": [
    "from sklearn.decomposition import PCA\n",
    "\n",
    "pca = PCA(n_components=2)\n",
    "\n",
    "pca.fit(scaledX)\n",
    "\n",
    "d2 = pca.transform(scaledX)\n",
    "\n",
    "plt.scatter(scaledX[:, 1], scaledX[:, 0], c=kmeans.labels_)"
   ]
  },
  {
   "cell_type": "code",
   "execution_count": 75,
   "metadata": {},
   "outputs": [
    {
     "name": "stdout",
     "output_type": "stream",
     "text": [
      "Accuracy for FCM:  0.8065843621399177\n",
      "Accuracy for KMeans:  0.7901234567901234\n"
     ]
    }
   ],
   "source": [
    "from sklearn.metrics import accuracy_score\n",
    "\n",
    "print(\"Accuracy for FCM: \", accuracy_score(target, cuts))\n",
    "print(\"Accuracy for KMeans: \", accuracy_score(target, kmeans.labels_))\n"
   ]
  }
 ],
 "metadata": {
  "kernelspec": {
   "display_name": "Python 3.8.13 ('uni')",
   "language": "python",
   "name": "python3"
  },
  "language_info": {
   "codemirror_mode": {
    "name": "ipython",
    "version": 3
   },
   "file_extension": ".py",
   "mimetype": "text/x-python",
   "name": "python",
   "nbconvert_exporter": "python",
   "pygments_lexer": "ipython3",
   "version": "3.8.13"
  },
  "orig_nbformat": 4,
  "vscode": {
   "interpreter": {
    "hash": "93496951c11c972fc010a22e53e56ecd57bf18cf86d4dfe7f8b7b9c31b0ee253"
   }
  }
 },
 "nbformat": 4,
 "nbformat_minor": 2
}
